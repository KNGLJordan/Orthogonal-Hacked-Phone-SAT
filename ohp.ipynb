{
 "cells": [
  {
   "cell_type": "markdown",
   "id": "aaf6aab6",
   "metadata": {},
   "source": [
    "# Encoding SAT: Orthogonal Hacked Phone"
   ]
  },
  {
   "cell_type": "markdown",
   "id": "8c43ee67",
   "metadata": {},
   "source": [
    "\"Orthogonal Hacked Phone\" is a revisited version of the childish game \"Chinese Whispers\".\n",
    "\n",
    "One player is the hacker and his goal is to intercept a secret message and modify it. All the other players has to find out the correct sequence for the trasnmission of the secret message to avoid the hacker and preserve the original secret.\n",
    "\n",
    "The rules of the game are:\n",
    "- The first player must decide a secret message\n",
    "- Each player receives the message from a player, sees it only once, and then send it to the next player\n",
    "- The hacker must intercept and modify the message hacking some connections between players\n",
    "- The players win if the message returns to the first player unmodified\n",
    "- The hacker wins if the message returns to the first player modified (hacked by himself)"
   ]
  },
  {
   "cell_type": "markdown",
   "id": "51cf150b",
   "metadata": {},
   "source": [
    "<img src=\"./images/OHPlogo.png\" alt=\"OHP logo\" width=\"300\"/>"
   ]
  },
  {
   "cell_type": "markdown",
   "id": "abbc23da",
   "metadata": {},
   "source": [
    "## Modelling the game "
   ]
  },
  {
   "cell_type": "markdown",
   "id": "4fd1bc21",
   "metadata": {},
   "source": [
    "Suppose 5 players and 1 hacker are playing the game. We can represent all the connections between the players as a graph where the player are the vertices and the connections are the edges of the graph."
   ]
  },
  {
   "cell_type": "markdown",
   "id": "c9ec90d8",
   "metadata": {},
   "source": [
    "<img src=\"./images/OHPgraph.png\" alt=\"OHP logo\" width=\"500\"/>"
   ]
  },
  {
   "cell_type": "markdown",
   "id": "5a1933b1",
   "metadata": {},
   "source": [
    "### Match 1"
   ]
  },
  {
   "cell_type": "markdown",
   "id": "d5dde27e",
   "metadata": {},
   "source": [
    "Suppose we also know which connections have been hacked by the hacker. \n",
    "\n",
    "In this case we can determine if the players have a chance to win the game or not.\n",
    "\n",
    "We can represent the game with the same graph as before with 2 different type of edges:\n",
    "- blue edges, the safe ones\n",
    "- red edges, the hacked ones   "
   ]
  },
  {
   "cell_type": "markdown",
   "id": "cce1e714",
   "metadata": {},
   "source": [
    "<img src=\"./images/OHPhacked1.png\" alt=\"OHP logo\" width=\"500\"/>"
   ]
  },
  {
   "cell_type": "markdown",
   "id": "d6e7153e",
   "metadata": {},
   "source": [
    "Now we can remove the hacked edges to obtain a graph where the remaining edges are the only ones referred to a safe conncetion."
   ]
  },
  {
   "cell_type": "markdown",
   "id": "e1500e6a",
   "metadata": {},
   "source": [
    "<img src=\"./images/OHPnohack1.png\" alt=\"OHP logo\" width=\"500\"/>"
   ]
  },
  {
   "cell_type": "markdown",
   "id": "b4362212",
   "metadata": {},
   "source": [
    "At this point, the goal is to determine whether this graph has an Hamiltonian circuit or not. A Hamiltonian circuit (or cycle) in a graph is a cycle that starts at some vertex, visits every vertex of the graph exactly once, and then returns to the starting vertex."
   ]
  },
  {
   "cell_type": "markdown",
   "id": "843a2e28",
   "metadata": {},
   "source": [
    "Hamiltonian Circuit is a NP-complete problem. So, we can reduct it to SAT encoding it and determine if with this configuration there is a chance to wim the match."
   ]
  },
  {
   "cell_type": "markdown",
   "id": "802b7b90",
   "metadata": {},
   "source": [
    "The idea behind the encoding is the following:\n",
    "- for $n$ vertices in the graph we need $n^2$ boolean variables\n",
    "- the assignment of the variables indicates a possible cycle in the graph \n",
    "\n",
    "$$\n",
    "v_{i,j} =\n",
    "\\begin{cases}\n",
    "1 & \\text{if player $i$ is in the position $j$ of the cycle}  \\\\\n",
    "0 & \\text{otherwise}\n",
    "\\end{cases}\n",
    "$$\n",
    "\n",
    "For example, the following cycle is a possible solution:\n"
   ]
  },
  {
   "cell_type": "markdown",
   "id": "4a49dfbd",
   "metadata": {},
   "source": [
    "<img src=\"./images/OHPsolved1.png\" alt=\"OHP logo\" width=\"500\"/>"
   ]
  },
  {
   "cell_type": "markdown",
   "id": "8674b5a4",
   "metadata": {},
   "source": [
    "This cycle is represented by a single assignment of the variables we have defined. In particular:\n",
    "- $v_{L,1}$ is set to true beacause Lorenzo is the first player in the cycle\n",
    "- $v_{G,2}$ is set to true beacause Gianfranco is the first player in the cycle\n",
    "- $v_{A,3}$ is set to true beacause Alessandro is the first player in the cycle\n",
    "- $v_{B,4}$ is set to true beacause Buno is the first player in the cycle\n",
    "- $v_{O,5}$ is set to true beacause Ozalp is the first player in the cycle\n",
    "- all the other variables are set to false"
   ]
  }
 ],
 "metadata": {
  "kernelspec": {
   "display_name": "Python 3",
   "language": "python",
   "name": "python3"
  },
  "language_info": {
   "codemirror_mode": {
    "name": "ipython",
    "version": 3
   },
   "file_extension": ".py",
   "mimetype": "text/x-python",
   "name": "python",
   "nbconvert_exporter": "python",
   "pygments_lexer": "ipython3",
   "version": "3.12.3"
  }
 },
 "nbformat": 4,
 "nbformat_minor": 5
}
